{
 "cells": [
  {
   "cell_type": "code",
   "execution_count": 47,
   "id": "00480b5b",
   "metadata": {},
   "outputs": [
    {
     "name": "stdout",
     "output_type": "stream",
     "text": [
      "AAPL had a 35.0% gain over the last year.\n",
      "AMZN had a -3.0% gain over the last year.\n",
      "BRK-B had a 28.0% gain over the last year.\n",
      "FB had a -20.0% gain over the last year.\n",
      "GOOG had a 28.0% gain over the last year.\n",
      "MSFT had a 24.0% gain over the last year.\n",
      "NVDA had a 71.0% gain over the last year.\n",
      "QQQ had a 8.0% gain over the last year.\n",
      "TSLA had a 23.0% gain over the last year.\n",
      "TSM had a -10.0% gain over the last year.\n"
     ]
    }
   ],
   "source": [
    "import pandas_datareader.data as web\n",
    "\n",
    "def get_one_year_gain(symbol):\n",
    "    stock_symbol = symbol\n",
    "    df = web.DataReader(stock_symbol, 'stooq')\n",
    "    #print(df[:252])\n",
    "    prices = df.Close\n",
    "    yesterday_price = prices[0]\n",
    "    last_year_price = prices[251]\n",
    "    one_year_gain = (yesterday_price - last_year_price) / last_year_price\n",
    "    print(\"{} had a {}% gain over the last year.\".format(stock_symbol, round(one_year_gain * 100, 0)))\n",
    "    \n",
    "get_one_year_gain('AAPL')\n",
    "get_one_year_gain('AMZN')\n",
    "get_one_year_gain('BRK-B')\n",
    "get_one_year_gain('FB')\n",
    "get_one_year_gain('GOOG')\n",
    "get_one_year_gain('MSFT')\n",
    "get_one_year_gain('NVDA')\n",
    "get_one_year_gain('QQQ')\n",
    "get_one_year_gain('TSLA')\n",
    "get_one_year_gain('TSM')"
   ]
  },
  {
   "cell_type": "code",
   "execution_count": null,
   "id": "38196037",
   "metadata": {},
   "outputs": [],
   "source": []
  }
 ],
 "metadata": {
  "kernelspec": {
   "display_name": "Python 3 (ipykernel)",
   "language": "python",
   "name": "python3"
  },
  "language_info": {
   "codemirror_mode": {
    "name": "ipython",
    "version": 3
   },
   "file_extension": ".py",
   "mimetype": "text/x-python",
   "name": "python",
   "nbconvert_exporter": "python",
   "pygments_lexer": "ipython3",
   "version": "3.9.7"
  }
 },
 "nbformat": 4,
 "nbformat_minor": 5
}
