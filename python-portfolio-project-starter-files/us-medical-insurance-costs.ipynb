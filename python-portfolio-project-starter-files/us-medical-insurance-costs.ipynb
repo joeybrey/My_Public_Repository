{
 "cells": [
  {
   "cell_type": "markdown",
   "metadata": {},
   "source": [
    "# U.S. Medical Insurance Costs"
   ]
  },
  {
   "cell_type": "code",
   "execution_count": 96,
   "metadata": {},
   "outputs": [
    {
     "name": "stdout",
     "output_type": "stream",
     "text": [
      "The average age of this dataset is 39\n",
      "The minimum age of this dataset is 18\n",
      "The maximum age of this dataset is 64\n",
      "The age range of this dataset is 46 years.\n",
      "['southwest', 'southeast', 'northwest', 'northeast']\n"
     ]
    }
   ],
   "source": [
    "#Look at the different costs between smokers vs. non-smokers.\n",
    "#Figure out what the average age is for someone who has at least one child in this dataset.\n",
    "\n",
    "import csv\n",
    "\n",
    "with open(\"insurance.csv\") as insurance_csv:\n",
    "    dataset = list(csv.reader(insurance_csv))\n",
    "\n",
    "ages = []\n",
    "sexes = []\n",
    "bmis = []\n",
    "childrens = []\n",
    "smokers = []\n",
    "regions = []\n",
    "charges = []\n",
    "\n",
    "#print(dataset)\n",
    "\n",
    "for row in dataset[1:]:\n",
    "    ages.append(int(row[0]))\n",
    "\n",
    "for row in dataset[1:]:\n",
    "    sexes.append(row[1])\n",
    "\n",
    "for row in dataset[1:]:\n",
    "    bmis.append(float(row[2]))\n",
    "\n",
    "for row in dataset[1:]:\n",
    "    childrens.append(int(row[3]))\n",
    "\n",
    "for row in dataset[1:]:\n",
    "    smokers.append(row[4])\n",
    "\n",
    "for row in dataset[1:]:\n",
    "    regions.append(row[5])\n",
    "\n",
    "for row in dataset[1:]:\n",
    "    charges.append(float(row[6]))\n",
    "\n",
    "#Find out the average age of the patients in the dataset.\n",
    "total_ages = 0\n",
    "count_ages = 0\n",
    "for age in ages:\n",
    "    total_ages += int(age)\n",
    "    count_ages += 1\n",
    "    average_age = int(total_ages / count_ages)\n",
    "print(\"The average age of this dataset is \" + str(average_age))\n",
    "\n",
    "#Find out the max and min age of the patients in the dataset.\n",
    "max_age = ages[0]\n",
    "min_age = ages[0]\n",
    "for age in ages:\n",
    "    if age < min_age:\n",
    "        min_age = age\n",
    "    else:\n",
    "        continue\n",
    "for age in ages:\n",
    "    if age > max_age:\n",
    "        max_age = age\n",
    "    else:\n",
    "        continue\n",
    "print(\"The minimum age of this dataset is \" + str(min_age))\n",
    "print(\"The maximum age of this dataset is \" + str(max_age))\n",
    "print(\"The age range of this dataset is \" + str(max_age - min_age) + \" years.\")\n",
    "\n",
    "#Analyze where a majority of the individuals are from.\n",
    "distinct_regions = []\n",
    "for region in regions:\n",
    "    if region not in distinct_regions:\n",
    "        distinct_regions.append(region)\n",
    "    else:\n",
    "        continue\n",
    "print(distinct_regions)\n",
    "\n",
    "southwest_count = 0\n",
    "southeast_count = 0\n",
    "northwest_count = 0\n",
    "northeast_count = 0\n"
   ]
  }
 ],
 "metadata": {
  "kernelspec": {
   "display_name": "Python 3",
   "language": "python",
   "name": "python3"
  },
  "language_info": {
   "codemirror_mode": {
    "name": "ipython",
    "version": 3
   },
   "file_extension": ".py",
   "mimetype": "text/x-python",
   "name": "python",
   "nbconvert_exporter": "python",
   "pygments_lexer": "ipython3",
   "version": "3.8.9"
  }
 },
 "nbformat": 4,
 "nbformat_minor": 4
}
